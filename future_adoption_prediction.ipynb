{
 "cells": [
  {
   "cell_type": "markdown",
   "metadata": {},
   "source": [
    "## Imports"
   ]
  },
  {
   "cell_type": "code",
   "execution_count": 1,
   "metadata": {},
   "outputs": [],
   "source": [
    "import pandas as pd\n",
    "import numpy as np\n",
    "import matplotlib.pyplot as plt\n",
    "import seaborn as sns"
   ]
  },
  {
   "cell_type": "markdown",
   "metadata": {},
   "source": [
    "## Dataframe"
   ]
  },
  {
   "cell_type": "code",
   "execution_count": 2,
   "metadata": {},
   "outputs": [],
   "source": [
    "pd.set_option('display.float_format', '{:.0f}'.format)\n",
    "df1 = pd.read_csv('D:/Data Science Notes/Guvi/Assignment 5/takehome_users.csv', encoding = 'latin-1')\n",
    "df2 = pd.read_csv('D:/Data Science Notes/Guvi/Assignment 5/takehome_user_engagement.csv', parse_dates = ['time_stamp'])"
   ]
  },
  {
   "cell_type": "code",
   "execution_count": 3,
   "metadata": {},
   "outputs": [
    {
     "data": {
      "text/html": [
       "<div>\n",
       "<style scoped>\n",
       "    .dataframe tbody tr th:only-of-type {\n",
       "        vertical-align: middle;\n",
       "    }\n",
       "\n",
       "    .dataframe tbody tr th {\n",
       "        vertical-align: top;\n",
       "    }\n",
       "\n",
       "    .dataframe thead th {\n",
       "        text-align: right;\n",
       "    }\n",
       "</style>\n",
       "<table border=\"1\" class=\"dataframe\">\n",
       "  <thead>\n",
       "    <tr style=\"text-align: right;\">\n",
       "      <th></th>\n",
       "      <th>object_id</th>\n",
       "      <th>creation_time</th>\n",
       "      <th>name</th>\n",
       "      <th>email</th>\n",
       "      <th>creation_source</th>\n",
       "      <th>last_session_creation_time</th>\n",
       "      <th>opted_in_to_mailing_list</th>\n",
       "      <th>enabled_for_marketing_drip</th>\n",
       "      <th>org_id</th>\n",
       "      <th>invited_by_user_id</th>\n",
       "    </tr>\n",
       "  </thead>\n",
       "  <tbody>\n",
       "    <tr>\n",
       "      <th>0</th>\n",
       "      <td>1</td>\n",
       "      <td>2014-04-22 03:53:30</td>\n",
       "      <td>Clausen August</td>\n",
       "      <td>AugustCClausen@yahoo.com</td>\n",
       "      <td>GUEST_INVITE</td>\n",
       "      <td>1398138810</td>\n",
       "      <td>1</td>\n",
       "      <td>0</td>\n",
       "      <td>11</td>\n",
       "      <td>10803</td>\n",
       "    </tr>\n",
       "    <tr>\n",
       "      <th>1</th>\n",
       "      <td>2</td>\n",
       "      <td>2013-11-15 03:45:04</td>\n",
       "      <td>Poole Matthew</td>\n",
       "      <td>MatthewPoole@gustr.com</td>\n",
       "      <td>ORG_INVITE</td>\n",
       "      <td>1396237504</td>\n",
       "      <td>0</td>\n",
       "      <td>0</td>\n",
       "      <td>1</td>\n",
       "      <td>316</td>\n",
       "    </tr>\n",
       "    <tr>\n",
       "      <th>2</th>\n",
       "      <td>3</td>\n",
       "      <td>2013-03-19 23:14:52</td>\n",
       "      <td>Bottrill Mitchell</td>\n",
       "      <td>MitchellBottrill@gustr.com</td>\n",
       "      <td>ORG_INVITE</td>\n",
       "      <td>1363734892</td>\n",
       "      <td>0</td>\n",
       "      <td>0</td>\n",
       "      <td>94</td>\n",
       "      <td>1525</td>\n",
       "    </tr>\n",
       "    <tr>\n",
       "      <th>3</th>\n",
       "      <td>4</td>\n",
       "      <td>2013-05-21 08:09:28</td>\n",
       "      <td>Clausen Nicklas</td>\n",
       "      <td>NicklasSClausen@yahoo.com</td>\n",
       "      <td>GUEST_INVITE</td>\n",
       "      <td>1369210168</td>\n",
       "      <td>0</td>\n",
       "      <td>0</td>\n",
       "      <td>1</td>\n",
       "      <td>5151</td>\n",
       "    </tr>\n",
       "    <tr>\n",
       "      <th>4</th>\n",
       "      <td>5</td>\n",
       "      <td>2013-01-17 10:14:20</td>\n",
       "      <td>Raw Grace</td>\n",
       "      <td>GraceRaw@yahoo.com</td>\n",
       "      <td>GUEST_INVITE</td>\n",
       "      <td>1358849660</td>\n",
       "      <td>0</td>\n",
       "      <td>0</td>\n",
       "      <td>193</td>\n",
       "      <td>5240</td>\n",
       "    </tr>\n",
       "  </tbody>\n",
       "</table>\n",
       "</div>"
      ],
      "text/plain": [
       "   object_id        creation_time               name  \\\n",
       "0          1  2014-04-22 03:53:30     Clausen August   \n",
       "1          2  2013-11-15 03:45:04      Poole Matthew   \n",
       "2          3  2013-03-19 23:14:52  Bottrill Mitchell   \n",
       "3          4  2013-05-21 08:09:28    Clausen Nicklas   \n",
       "4          5  2013-01-17 10:14:20          Raw Grace   \n",
       "\n",
       "                        email creation_source  last_session_creation_time  \\\n",
       "0    AugustCClausen@yahoo.com    GUEST_INVITE                  1398138810   \n",
       "1      MatthewPoole@gustr.com      ORG_INVITE                  1396237504   \n",
       "2  MitchellBottrill@gustr.com      ORG_INVITE                  1363734892   \n",
       "3   NicklasSClausen@yahoo.com    GUEST_INVITE                  1369210168   \n",
       "4          GraceRaw@yahoo.com    GUEST_INVITE                  1358849660   \n",
       "\n",
       "   opted_in_to_mailing_list  enabled_for_marketing_drip  org_id  \\\n",
       "0                         1                           0      11   \n",
       "1                         0                           0       1   \n",
       "2                         0                           0      94   \n",
       "3                         0                           0       1   \n",
       "4                         0                           0     193   \n",
       "\n",
       "   invited_by_user_id  \n",
       "0               10803  \n",
       "1                 316  \n",
       "2                1525  \n",
       "3                5151  \n",
       "4                5240  "
      ]
     },
     "execution_count": 3,
     "metadata": {},
     "output_type": "execute_result"
    }
   ],
   "source": [
    "df1.head()"
   ]
  },
  {
   "cell_type": "code",
   "execution_count": 4,
   "metadata": {},
   "outputs": [
    {
     "data": {
      "text/html": [
       "<div>\n",
       "<style scoped>\n",
       "    .dataframe tbody tr th:only-of-type {\n",
       "        vertical-align: middle;\n",
       "    }\n",
       "\n",
       "    .dataframe tbody tr th {\n",
       "        vertical-align: top;\n",
       "    }\n",
       "\n",
       "    .dataframe thead th {\n",
       "        text-align: right;\n",
       "    }\n",
       "</style>\n",
       "<table border=\"1\" class=\"dataframe\">\n",
       "  <thead>\n",
       "    <tr style=\"text-align: right;\">\n",
       "      <th></th>\n",
       "      <th>time_stamp</th>\n",
       "      <th>user_id</th>\n",
       "      <th>visited</th>\n",
       "    </tr>\n",
       "  </thead>\n",
       "  <tbody>\n",
       "    <tr>\n",
       "      <th>0</th>\n",
       "      <td>2014-04-22 03:53:30</td>\n",
       "      <td>1</td>\n",
       "      <td>1</td>\n",
       "    </tr>\n",
       "    <tr>\n",
       "      <th>1</th>\n",
       "      <td>2013-11-15 03:45:04</td>\n",
       "      <td>2</td>\n",
       "      <td>1</td>\n",
       "    </tr>\n",
       "    <tr>\n",
       "      <th>2</th>\n",
       "      <td>2013-11-29 03:45:04</td>\n",
       "      <td>2</td>\n",
       "      <td>1</td>\n",
       "    </tr>\n",
       "    <tr>\n",
       "      <th>3</th>\n",
       "      <td>2013-12-09 03:45:04</td>\n",
       "      <td>2</td>\n",
       "      <td>1</td>\n",
       "    </tr>\n",
       "    <tr>\n",
       "      <th>4</th>\n",
       "      <td>2013-12-25 03:45:04</td>\n",
       "      <td>2</td>\n",
       "      <td>1</td>\n",
       "    </tr>\n",
       "  </tbody>\n",
       "</table>\n",
       "</div>"
      ],
      "text/plain": [
       "           time_stamp  user_id  visited\n",
       "0 2014-04-22 03:53:30        1        1\n",
       "1 2013-11-15 03:45:04        2        1\n",
       "2 2013-11-29 03:45:04        2        1\n",
       "3 2013-12-09 03:45:04        2        1\n",
       "4 2013-12-25 03:45:04        2        1"
      ]
     },
     "execution_count": 4,
     "metadata": {},
     "output_type": "execute_result"
    }
   ],
   "source": [
    "df2.head()"
   ]
  },
  {
   "cell_type": "code",
   "execution_count": 5,
   "metadata": {},
   "outputs": [
    {
     "data": {
      "text/plain": [
       "12000"
      ]
     },
     "execution_count": 5,
     "metadata": {},
     "output_type": "execute_result"
    }
   ],
   "source": [
    "len_df1 = df1[df1.columns[0]].count()\n",
    "len_df1"
   ]
  },
  {
   "cell_type": "markdown",
   "metadata": {},
   "source": [
    "## Adopted User Column"
   ]
  },
  {
   "cell_type": "code",
   "execution_count": 6,
   "metadata": {},
   "outputs": [
    {
     "name": "stdout",
     "output_type": "stream",
     "text": [
      "1445\n"
     ]
    },
    {
     "data": {
      "text/html": [
       "<div>\n",
       "<style scoped>\n",
       "    .dataframe tbody tr th:only-of-type {\n",
       "        vertical-align: middle;\n",
       "    }\n",
       "\n",
       "    .dataframe tbody tr th {\n",
       "        vertical-align: top;\n",
       "    }\n",
       "\n",
       "    .dataframe thead th {\n",
       "        text-align: right;\n",
       "    }\n",
       "</style>\n",
       "<table border=\"1\" class=\"dataframe\">\n",
       "  <thead>\n",
       "    <tr style=\"text-align: right;\">\n",
       "      <th></th>\n",
       "      <th>object_id</th>\n",
       "    </tr>\n",
       "  </thead>\n",
       "  <tbody>\n",
       "    <tr>\n",
       "      <th>0</th>\n",
       "      <td>10</td>\n",
       "    </tr>\n",
       "    <tr>\n",
       "      <th>1</th>\n",
       "      <td>42</td>\n",
       "    </tr>\n",
       "    <tr>\n",
       "      <th>2</th>\n",
       "      <td>63</td>\n",
       "    </tr>\n",
       "    <tr>\n",
       "      <th>3</th>\n",
       "      <td>69</td>\n",
       "    </tr>\n",
       "    <tr>\n",
       "      <th>4</th>\n",
       "      <td>81</td>\n",
       "    </tr>\n",
       "  </tbody>\n",
       "</table>\n",
       "</div>"
      ],
      "text/plain": [
       "   object_id\n",
       "0         10\n",
       "1         42\n",
       "2         63\n",
       "3         69\n",
       "4         81"
      ]
     },
     "execution_count": 6,
     "metadata": {},
     "output_type": "execute_result"
    }
   ],
   "source": [
    "df2['wk'] = df2['time_stamp'].dt.week\n",
    "df2c = df2.groupby(['wk','user_id'])['time_stamp'].count().reset_index(name='freq')\n",
    "\n",
    "result = df2c[df2c.freq >= 3]\n",
    "\n",
    "## only user ids matching criteria\n",
    "adopted = result.user_id.tolist()\n",
    "adopted = pd.DataFrame(adopted)\n",
    "adopted_user = pd.DataFrame(adopted[adopted.columns[0]].unique())\n",
    "adopted_user.columns = ['object_id']\n",
    "len_adopted_user = adopted_user[adopted_user.columns[0]].count()\n",
    "print(len_adopted_user)\n",
    "adopted_user.head()"
   ]
  },
  {
   "cell_type": "code",
   "execution_count": 7,
   "metadata": {},
   "outputs": [
    {
     "data": {
      "text/plain": [
       "array(['GUEST_INVITE', 'ORG_INVITE', 'SIGNUP', 'PERSONAL_PROJECTS',\n",
       "       'SIGNUP_GOOGLE_AUTH'], dtype=object)"
      ]
     },
     "execution_count": 7,
     "metadata": {},
     "output_type": "execute_result"
    }
   ],
   "source": [
    "ucs = df1['creation_source'].unique()\n",
    "ucs"
   ]
  },
  {
   "cell_type": "markdown",
   "metadata": {},
   "source": [
    "### Adopted Percentage of each value of creation source (ucsPer)"
   ]
  },
  {
   "cell_type": "code",
   "execution_count": 8,
   "metadata": {
    "scrolled": true
   },
   "outputs": [
    {
     "name": "stdout",
     "output_type": "stream",
     "text": [
      "[15.071659731853906, 11.5420780441937, 13.17680881648299, 6.963524396020842, 14.873646209386282]\n",
      "{'GUEST_INVITE': 15.071659731853906, 'ORG_INVITE': 11.5420780441937, 'SIGNUP': 13.17680881648299, 'PERSONAL_PROJECTS': 6.963524396020842, 'SIGNUP_GOOGLE_AUTH': 14.873646209386282}\n"
     ]
    }
   ],
   "source": [
    "ucsPer = []\n",
    "ucsPerdict = {}\n",
    "for uniq in ucs:\n",
    "    ### Account Created for:\n",
    "    ids = df1[['object_id', 'name', 'creation_source']][df1['creation_source'] == uniq]\n",
    "    ids_len = ids[ids.columns[0]].count()\n",
    "\n",
    "    ### Common of adopted user and each creation_source value\n",
    "    com_df1 = pd.merge(adopted_user, ids, on = 'object_id', how = 'inner' )\n",
    "\n",
    "    ### count of each creation_source adopted to this social media\n",
    "    com_df1_len = com_df1[com_df1.columns[0]].count()\n",
    "\n",
    "    ### Percentage of each creation_source value adopted into the product\n",
    "    per_adop = (com_df1_len/ids_len)*100\n",
    "    ucsPer.append(per_adop)\n",
    "    ucsPerdict[uniq] = per_adop\n",
    "print(ucsPer)\n",
    "print(ucsPerdict)"
   ]
  },
  {
   "cell_type": "markdown",
   "metadata": {},
   "source": [
    "### Each creation source users who are opted_in_to_mailing_list (ucsPerml)"
   ]
  },
  {
   "cell_type": "code",
   "execution_count": 9,
   "metadata": {},
   "outputs": [
    {
     "name": "stdout",
     "output_type": "stream",
     "text": [
      "[16.45101663585952, 12.244897959183673, 14.476190476190476, 6.640625, 13.905325443786982]\n"
     ]
    }
   ],
   "source": [
    "ucsPerml = []\n",
    "for uniq in ucs:\n",
    "    ids_oml = df1[['object_id', 'name', 'creation_source']][(df1['creation_source'] == uniq)\n",
    "                                                       & (df1['opted_in_to_mailing_list'] == 1)]\n",
    "    ids_len_oml = ids_oml[ids_oml.columns[0]].count()\n",
    "\n",
    "\n",
    "    com_df1_oml = pd.merge(adopted_user, ids_oml, on = 'object_id', how = 'inner' )\n",
    "    com_df1_len_oml = com_df1_oml[com_df1_oml.columns[0]].count()\n",
    "\n",
    "    ### Percentage of Each creation source users who opted_in_to_mailing_list are adopted to product\n",
    "    per_adop_oml = (com_df1_len_oml/ids_len_oml)*100\n",
    "    ucsPerml.append(per_adop_oml)\n",
    "print(ucsPerml)"
   ]
  },
  {
   "cell_type": "markdown",
   "metadata": {},
   "source": [
    "### Each creation source users who are enabled_for_marketing_drip (ucsPermd)"
   ]
  },
  {
   "cell_type": "code",
   "execution_count": 10,
   "metadata": {},
   "outputs": [
    {
     "name": "stdout",
     "output_type": "stream",
     "text": [
      "[13.793103448275861, 11.956521739130435, 14.733542319749215, 7.2607260726072615, 16.425120772946862]\n"
     ]
    }
   ],
   "source": [
    "ucsPermd = []\n",
    "for uniq in ucs:\n",
    "    ids_emd = df1[['object_id', 'name', 'creation_source']][(df1['creation_source'] == uniq)\n",
    "                                                       & (df1['enabled_for_marketing_drip'] == 1)]\n",
    "    ids_len_emd = ids_emd[ids_emd.columns[0]].count()\n",
    "\n",
    "\n",
    "    com_df1_emd = pd.merge(adopted_user, ids_emd, on = 'object_id', how = 'inner' )\n",
    "    com_df1_len_emd = com_df1_emd[com_df1_emd.columns[0]].count()\n",
    "\n",
    "    ### Percentage of Each creation source users who enabled_for_marketing_drip are adopted to product\n",
    "    per_adop_emd = (com_df1_len_emd/ids_len_emd)*100\n",
    "    ucsPermd.append(per_adop_emd)\n",
    "print(ucsPermd)"
   ]
  },
  {
   "cell_type": "markdown",
   "metadata": {},
   "source": [
    "### Each creation source users who are  opted_in_to_mailing_list  and enabled_for_marketing_drip (ucsPermlmd)"
   ]
  },
  {
   "cell_type": "code",
   "execution_count": 11,
   "metadata": {},
   "outputs": [
    {
     "name": "stdout",
     "output_type": "stream",
     "text": [
      "[15.18987341772152, 12.448979591836734, 15.0, 6.912442396313365, 14.556962025316455]\n"
     ]
    }
   ],
   "source": [
    "ucsPermlmd = []\n",
    "for uniq in ucs:\n",
    "    ids_mlmd = df1[['object_id', 'name', 'creation_source']][(df1['creation_source'] == uniq)\n",
    "                                                                & (df1['opted_in_to_mailing_list'] == 1)\n",
    "                                                                & (df1['enabled_for_marketing_drip'] == 1)]\n",
    "    ids_len_mlmd = ids_mlmd[ids_mlmd.columns[0]].count()\n",
    "\n",
    "\n",
    "    com_df1_mlmd = pd.merge(adopted_user, ids_mlmd, on = 'object_id', how = 'inner' )\n",
    "    com_df1_len_mlmd = com_df1_mlmd[com_df1_mlmd.columns[0]].count()\n",
    "\n",
    "    ### Percentage of each creation source users who enabled_for_marketing_drip are adopted to product\n",
    "    per_adop_mlmd = (com_df1_len_mlmd/ids_len_mlmd)*100\n",
    "    ucsPermlmd.append(per_adop_mlmd)\n",
    "print(ucsPermlmd)"
   ]
  },
  {
   "cell_type": "markdown",
   "metadata": {},
   "source": [
    "### Each creation source users who are not opted_in_to_mailing_list (ucsPer_nml)"
   ]
  },
  {
   "cell_type": "code",
   "execution_count": 12,
   "metadata": {},
   "outputs": [
    {
     "name": "stdout",
     "output_type": "stream",
     "text": [
      "[14.61159062885327, 11.303526448362721, 12.740076824583868, 7.066916823014384, 15.18624641833811]\n"
     ]
    }
   ],
   "source": [
    "ucsPer_nml = []\n",
    "for uniq in ucs:\n",
    "    ids_noml = df1[['object_id', 'name', 'creation_source']][(df1['creation_source'] == uniq)\n",
    "                                                           & (df1['opted_in_to_mailing_list'] == 0)]\n",
    "    ids_len_noml = ids_noml[ids_noml.columns[0]].count()\n",
    "\n",
    "    \n",
    "    com_df1_noml = pd.merge(adopted_user, ids_noml, on = 'object_id', how = 'inner' )\n",
    "    com_df1_len_noml = com_df1_noml[com_df1_noml.columns[0]].count()\n",
    "\n",
    "    ### Percentage of each creation source users who opted_in_to_mailing_list are adopted to product\n",
    "    per_adop_noml = (com_df1_len_noml/ids_len_noml)*100\n",
    "    ucsPer_nml.append(per_adop_noml)\n",
    "print(ucsPer_nml)"
   ]
  },
  {
   "cell_type": "markdown",
   "metadata": {},
   "source": [
    "### Each creation source users who are not enabled_for_marketing_drip (ucsPer_nmd)"
   ]
  },
  {
   "cell_type": "code",
   "execution_count": 13,
   "metadata": {},
   "outputs": [
    {
     "name": "stdout",
     "output_type": "stream",
     "text": [
      "[15.292841648590022, 11.46814404432133, 12.895927601809957, 6.913716814159292, 14.60101867572156]\n"
     ]
    }
   ],
   "source": [
    "ucsPer_nmd = []\n",
    "for uniq in ucs:\n",
    "    ids_nemd = df1[['object_id', 'name', 'creation_source']][(df1['creation_source'] == uniq)\n",
    "                                                           & (df1['enabled_for_marketing_drip'] == 0)]\n",
    "    ids_len_nemd = ids_nemd[ids_nemd.columns[0]].count()\n",
    "    \n",
    "    com_df1_nemd = pd.merge(adopted_user, ids_nemd, on = 'object_id', how = 'inner' )\n",
    "    com_df1_len_nemd = com_df1_nemd[com_df1_nemd.columns[0]].count()\n",
    "\n",
    "    ### Percentage of each creation source users who enabled_for_marketing_drip are adopted to product\n",
    "    per_adop_nemd = (com_df1_len_nemd/ids_len_nemd)*100\n",
    "    ucsPer_nmd.append(per_adop_nemd)\n",
    "print(ucsPer_nmd)"
   ]
  },
  {
   "cell_type": "markdown",
   "metadata": {},
   "source": [
    "### Each creation source users who are not opted_in_to_mailing_list and enabled_for_marketing_drip (ucsPer_nmlmd)"
   ]
  },
  {
   "cell_type": "code",
   "execution_count": 14,
   "metadata": {},
   "outputs": [
    {
     "name": "stdout",
     "output_type": "stream",
     "text": [
      "[14.870129870129869, 11.350099272005295, 12.6770060687795, 7.005948446794448, 14.829659318637276]\n"
     ]
    }
   ],
   "source": [
    "ucsPer_nmlmd = []\n",
    "for uniq in ucs:\n",
    "    ids_nmlmd = df1[['object_id', 'name', 'creation_source']][(df1['creation_source'] == uniq)\n",
    "                                                                & (df1['opted_in_to_mailing_list'] == 0)\n",
    "                                                                & (df1['enabled_for_marketing_drip'] == 0)]\n",
    "    ids_len_nmlmd = ids_nmlmd[ids_nmlmd.columns[0]].count()\n",
    "\n",
    "\n",
    "    com_df1_nmlmd = pd.merge(adopted_user, ids_nmlmd, on = 'object_id', how = 'inner' )\n",
    "    com_df1_len_nmlmd = com_df1_nmlmd[com_df1_nmlmd.columns[0]].count()\n",
    "\n",
    "    ### Percentage of each creation source users who enabled_for_marketing_drip are adopted to product\n",
    "    per_adop_nmlmd = (com_df1_len_nmlmd/ids_len_nmlmd)*100\n",
    "    ucsPer_nmlmd.append(per_adop_nmlmd)\n",
    "print(ucsPer_nmlmd)"
   ]
  },
  {
   "cell_type": "markdown",
   "metadata": {},
   "source": [
    "### Visualisation (Bar Chart)"
   ]
  },
  {
   "cell_type": "code",
   "execution_count": 15,
   "metadata": {
    "scrolled": false
   },
   "outputs": [
    {
     "data": {
      "image/png": "[encoded data removed]",
      "text/plain": [
       "<Figure size 1440x648 with 1 Axes>"
      ]
     },
     "metadata": {
      "needs_background": "light"
     },
     "output_type": "display_data"
    }
   ],
   "source": [
    "# Plot size\n",
    "plt.figure(figsize=(20, 9))\n",
    "\n",
    "# Plotting bars\n",
    "x_axis = np.arange(len(ucsPer))\n",
    "width = 0.10\n",
    "p1 = plt.bar(x_axis, ucsPer, width)\n",
    "p2 = plt.bar(x_axis+0.12, ucsPerml, width)\n",
    "p3 = plt.bar(x_axis+0.24, ucsPermd, width)\n",
    "p4 = plt.bar(x_axis +0.36, ucsPermlmd, width)\n",
    "p5 = plt.bar(x_axis +0.48, ucsPer_nml, width)\n",
    "p6 = plt.bar(x_axis +0.6, ucsPer_nmd, width)\n",
    "p7 = plt.bar(x_axis+0.72, ucsPer_nmlmd, width)\n",
    "\n",
    "# Annotation\n",
    "ecp = [ucsPer, ucsPerml, ucsPermd, ucsPermlmd, ucsPer_nml, ucsPer_nmd, ucsPer_nmlmd]\n",
    "for index, graph in enumerate([p1, p2, p3, p4, p5, p6, p7]) :\n",
    "    i = 0\n",
    "    for p in graph:\n",
    "        width = p.get_width()\n",
    "        height = p.get_height()\n",
    "        x, y = p.get_xy()\n",
    "        plt.text(x+width/2,\n",
    "             y+height*1.01,\n",
    "             str(round(ecp[index][i], 2))+'%',\n",
    "             ha='center', weight='bold', fontsize = 10)\n",
    "        i += 1\n",
    "\n",
    "# Legend\n",
    "plt.legend(['full group', 'opted for mailing list', 'enabled for marketing drip',\n",
    "           'opted for mailing list and\\n marketing drip', 'not opted for mailing list',\n",
    "           'not enabled for marketing drip', 'not opted for mailing list and\\n not enabled for marketing drip'],\n",
    "          bbox_to_anchor=(1.02, 1) , loc = 'lower right', fontsize = 12.5)\n",
    "\n",
    "# graph details\n",
    "plt.xticks([i + 0.40 for i in range(5)], ucs, fontsize = 12.5)\n",
    "plt.xlabel(\"Each Creation Source\", fontsize = 15)\n",
    "plt.ylabel(\"Percentage Adopted\", fontsize = 15)\n",
    "plt.title(\"Adotped percentage of each category\", fontsize = 25)\n",
    "\n",
    "# graph download\n",
    "plt.savefig('Adopted_Percentage_each_creation_source.png')\n",
    "\n",
    "plt.show()"
   ]
  }
 ],
 "metadata": {
  "kernelspec": {
   "display_name": "Python 3",
   "language": "python",
   "name": "python3"
  },
  "language_info": {
   "codemirror_mode": {
    "name": "ipython",
    "version": 3
   },
   "file_extension": ".py",
   "mimetype": "text/x-python",
   "name": "python",
   "nbconvert_exporter": "python",
   "pygments_lexer": "ipython3",
   "version": "3.7.3"
  }
 },
 "nbformat": 4,
 "nbformat_minor": 2
}
